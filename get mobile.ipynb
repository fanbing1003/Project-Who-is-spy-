{
 "cells": [
  {
   "cell_type": "code",
   "execution_count": 1,
   "metadata": {},
   "outputs": [],
   "source": [
    "import selenium\n",
    "from selenium import webdriver\n",
    "from modules.driver_loader import DriverLoader\n",
    "import time\n",
    "import pandas as pd\n",
    "from selenium.webdriver.common.by import By\n",
    "from modules import wait_util\n",
    "import requests\n",
    "import pandas as pd\n",
    "from bs4 import BeautifulSoup\n",
    "from collections import Counter\n",
    "import numpy as np\n",
    "import csv\n",
    "from selenium.webdriver.chrome.options import Options"
   ]
  },
  {
   "cell_type": "code",
   "execution_count": 2,
   "metadata": {},
   "outputs": [],
   "source": [
    "driver = DriverLoader().get_chrome_driver()\n",
    "driver.get('https://www.eprice.com.tw/product/brands/Apple/')"
   ]
  },
  {
   "cell_type": "code",
   "execution_count": 3,
   "metadata": {},
   "outputs": [],
   "source": [
    "mobile = BeautifulSoup(driver.page_source, 'html.parser')\n",
    "brand_link = []\n",
    "for i in mobile.find_all('a', {'class': 'selected'}):\n",
    "    brand_link.append(['https://www.eprice.com.tw'+i.get('href'),i.get_text()[i.get_text().index('(')+1:-1]])\n",
    "for i in mobile.find_all('a', {'class': 'normal'}):\n",
    "    try:\n",
    "        brand_link.append(['https://www.eprice.com.tw'+i.get('href'),i.get_text()[i.get_text().index('(')+1:-1]])\n",
    "    except:\n",
    "        continue"
   ]
  },
  {
   "cell_type": "code",
   "execution_count": 28,
   "metadata": {},
   "outputs": [
    {
     "data": {
      "text/plain": [
       "<a class=\"selected\" href=\"/product/brands/Apple/\">Apple <span class=\"count\">(68)</span></a>"
      ]
     },
     "execution_count": 28,
     "metadata": {},
     "output_type": "execute_result"
    }
   ],
   "source": [
    "i"
   ]
  },
  {
   "cell_type": "markdown",
   "metadata": {},
   "source": [
    "###### brand_link"
   ]
  },
  {
   "cell_type": "code",
   "execution_count": 4,
   "metadata": {},
   "outputs": [],
   "source": [
    "driver.get(brand_link[0][0])\n",
    "apple = BeautifulSoup(driver.page_source, 'html.parser')"
   ]
  },
  {
   "cell_type": "code",
   "execution_count": 5,
   "metadata": {},
   "outputs": [],
   "source": [
    "model_link = []\n",
    "for j in apple.find_all('a',{'class', 'title'}):\n",
    "    model_link.append('https://www.eprice.com.tw'+j.get('href'))"
   ]
  },
  {
   "cell_type": "code",
   "execution_count": 7,
   "metadata": {
    "scrolled": true
   },
   "outputs": [
    {
     "data": {
      "text/plain": [
       "['https://www.eprice.com.tw/mobile/intro/c01-p6405-apple-iphone-12-128gb/',\n",
       " 'https://www.eprice.com.tw/mobile/intro/c01-p6192-apple-iphone-11-128gb/',\n",
       " 'https://www.eprice.com.tw/mobile/intro/c01-p6409-apple-iphone-12-pro-max-256gb/',\n",
       " 'https://www.eprice.com.tw/mobile/intro/c01-p6412-apple-iphone-12-pro-128gb/',\n",
       " 'https://www.eprice.com.tw/mobile/intro/c01-p6410-apple-iphone-12-pro-max-128gb/',\n",
       " 'https://www.eprice.com.tw/mobile/intro/c01-p6407-apple-iphone-12-mini-128gb/',\n",
       " 'https://www.eprice.com.tw/mobile/intro/c01-p6197-apple-iphone-11-pro-max-256gb/',\n",
       " 'https://www.eprice.com.tw/mobile/intro/c01-p6404-apple-iphone-12-64gb/',\n",
       " 'https://www.eprice.com.tw/mobile/intro/c01-p6290-apple-iphone-se-2020-128gb/',\n",
       " 'https://www.eprice.com.tw/mobile/intro/c01-p5981-apple-iphone-xs-max-256gb/',\n",
       " 'https://www.eprice.com.tw/mobile/intro/c01-p5974-apple-iphone-xs-64gb/',\n",
       " 'https://www.eprice.com.tw/mobile/intro/c01-p6406-apple-iphone-12-256gb/',\n",
       " 'https://www.eprice.com.tw/mobile/intro/c01-p6190-apple-iphone-11-64gb/',\n",
       " 'https://www.eprice.com.tw/mobile/intro/c01-p6191-apple-iphone-11-pro-64gb/',\n",
       " 'https://www.eprice.com.tw/mobile/intro/c01-p6194-apple-iphone-11-pro-256gb/',\n",
       " 'https://www.eprice.com.tw/mobile/intro/c01-p6411-apple-iphone-12-pro-256gb/',\n",
       " 'https://www.eprice.com.tw/mobile/intro/c01-p5976-apple-iphone-xr-128gb/',\n",
       " 'https://www.eprice.com.tw/mobile/intro/c01-p6403-apple-iphone-12-mini-64gb/',\n",
       " 'https://www.eprice.com.tw/mobile/intro/c01-p6193-apple-iphone-11-256gb/',\n",
       " 'https://www.eprice.com.tw/mobile/intro/c01-p6289-apple-iphone-se-2020-64gb/',\n",
       " 'https://www.eprice.com.tw/mobile/intro/c01-p6196-apple-iphone-11-pro-max-64gb/',\n",
       " 'https://www.eprice.com.tw/mobile/intro/c01-p5980-apple-iphone-xs-max-64gb/',\n",
       " 'https://www.eprice.com.tw/mobile/intro/c01-p6408-apple-iphone-12-mini-256gb/',\n",
       " 'https://www.eprice.com.tw/mobile/intro/c01-p6401-apple-iphone-12-pro-max-512gb/',\n",
       " 'https://www.eprice.com.tw/mobile/intro/c01-p5975-apple-iphone-xr-64gb/',\n",
       " 'https://www.eprice.com.tw/mobile/intro/c01-p6198-apple-iphone-11-pro-max-512gb/',\n",
       " 'https://www.eprice.com.tw/mobile/intro/c01-p6402-apple-iphone-12-pro-512gb/',\n",
       " 'https://www.eprice.com.tw/mobile/intro/c01-p6195-apple-iphone-11-pro-512gb/',\n",
       " 'https://www.eprice.com.tw/mobile/intro/c01-p5978-apple-iphone-xs-256gb/',\n",
       " 'https://www.eprice.com.tw/mobile/intro/c01-p5977-apple-iphone-xr-256gb/',\n",
       " 'https://www.eprice.com.tw/mobile/intro/c01-p6291-apple-iphone-se-2020-256gb/',\n",
       " 'https://www.eprice.com.tw/mobile/intro/c01-p5979-apple-iphone-xs-512gb/']"
      ]
     },
     "execution_count": 7,
     "metadata": {},
     "output_type": "execute_result"
    }
   ],
   "source": [
    "model_link[:32]"
   ]
  },
  {
   "cell_type": "code",
   "execution_count": 16,
   "metadata": {},
   "outputs": [],
   "source": [
    "#找資料col\n",
    "topic_list2 = []\n",
    "driver.get(model_link[0])\n",
    "apple = BeautifulSoup(driver.page_source, 'html.parser')\n",
    "for i in apple.find_all('dt'):\n",
    "    topic_list2.append(i.get_text())"
   ]
  },
  {
   "cell_type": "code",
   "execution_count": 40,
   "metadata": {},
   "outputs": [
    {
     "name": "stdout",
     "output_type": "stream",
     "text": [
      "32\n"
     ]
    }
   ],
   "source": [
    "for i in driver.find_elements_by_class_name('manu-list'):\n",
    "    a = i.find_element_by_class_name('count')\n",
    "    print(a.text[1:-1])"
   ]
  },
  {
   "cell_type": "code",
   "execution_count": 43,
   "metadata": {},
   "outputs": [
    {
     "data": {
      "text/plain": [
       "[['https://www.eprice.com.tw/product/brands/Apple/'],\n",
       " ['https://www.eprice.com.tw/product/brands/ASUS/'],\n",
       " ['https://www.eprice.com.tw/product/brands/BlackShark/'],\n",
       " ['https://www.eprice.com.tw/product/brands/Google/'],\n",
       " ['https://www.eprice.com.tw/product/brands/HTC/'],\n",
       " ['https://www.eprice.com.tw/product/brands/HUAWEI/'],\n",
       " ['https://www.eprice.com.tw/product/brands/lenovo/'],\n",
       " ['https://www.eprice.com.tw/product/brands/LG/'],\n",
       " ['https://www.eprice.com.tw/product/brands/Moto/'],\n",
       " ['https://www.eprice.com.tw/product/brands/Nokia/'],\n",
       " ['https://www.eprice.com.tw/product/brands/OPPO/'],\n",
       " ['https://www.eprice.com.tw/product/brands/Panasonic/'],\n",
       " ['https://www.eprice.com.tw/product/brands/realme/'],\n",
       " ['https://www.eprice.com.tw/product/brands/Samsung/'],\n",
       " ['https://www.eprice.com.tw/product/brands/SHARP/'],\n",
       " ['https://www.eprice.com.tw/product/brands/SONY/'],\n",
       " ['https://www.eprice.com.tw/product/brands/SUGAR/'],\n",
       " ['https://www.eprice.com.tw/product/brands/vivo/'],\n",
       " ['https://www.eprice.com.tw/product/brands/Xiaomi/']]"
      ]
     },
     "execution_count": 43,
     "metadata": {},
     "output_type": "execute_result"
    }
   ],
   "source": [
    "brand_link"
   ]
  },
  {
   "cell_type": "code",
   "execution_count": 45,
   "metadata": {},
   "outputs": [],
   "source": [
    "for i in brand_link:\n",
    "    driver.get(i[0])\n",
    "    mobile = BeautifulSoup(driver.page_source, 'html.parser')\n",
    "    driver.get('https://www.eprice.com.tw'+mobile.find_all('a',{'class', 'title'})[0].get('href'))\n",
    "    count = driver.find_elements_by_class_name('manu-list')[0].find_element_by_class_name('count')\n",
    "    i.append(count.text[1:-1])"
   ]
  },
  {
   "cell_type": "code",
   "execution_count": 46,
   "metadata": {},
   "outputs": [
    {
     "data": {
      "text/plain": [
       "[['https://www.eprice.com.tw/product/brands/Apple/', '32'],\n",
       " ['https://www.eprice.com.tw/product/brands/ASUS/', '9'],\n",
       " ['https://www.eprice.com.tw/product/brands/BlackShark/', '5'],\n",
       " ['https://www.eprice.com.tw/product/brands/Google/', '7'],\n",
       " ['https://www.eprice.com.tw/product/brands/HTC/', '4'],\n",
       " ['https://www.eprice.com.tw/product/brands/HUAWEI/', '11'],\n",
       " ['https://www.eprice.com.tw/product/brands/lenovo/', '2'],\n",
       " ['https://www.eprice.com.tw/product/brands/LG/', '9'],\n",
       " ['https://www.eprice.com.tw/product/brands/Moto/', '6'],\n",
       " ['https://www.eprice.com.tw/product/brands/Nokia/', '10'],\n",
       " ['https://www.eprice.com.tw/product/brands/OPPO/', '16'],\n",
       " ['https://www.eprice.com.tw/product/brands/Panasonic/', '1'],\n",
       " ['https://www.eprice.com.tw/product/brands/realme/', '10'],\n",
       " ['https://www.eprice.com.tw/product/brands/Samsung/', '28'],\n",
       " ['https://www.eprice.com.tw/product/brands/SHARP/', '4'],\n",
       " ['https://www.eprice.com.tw/product/brands/SONY/', '7'],\n",
       " ['https://www.eprice.com.tw/product/brands/SUGAR/', '9'],\n",
       " ['https://www.eprice.com.tw/product/brands/vivo/', '18'],\n",
       " ['https://www.eprice.com.tw/product/brands/Xiaomi/', '17']]"
      ]
     },
     "execution_count": 46,
     "metadata": {},
     "output_type": "execute_result"
    }
   ],
   "source": [
    "brand_link"
   ]
  },
  {
   "cell_type": "code",
   "execution_count": 56,
   "metadata": {
    "scrolled": true
   },
   "outputs": [],
   "source": [
    "with open('mobile_model.csv', 'w', newline='',encoding = 'utf-8') as csvfile:\n",
    "  writer = csv.writer(csvfile)\n",
    "  writer.writerow(topic_list2)  \n",
    "  driver = DriverLoader().get_chrome_driver()\n",
    "  for i in brand_link:\n",
    "      driver.get(i[0])\n",
    "      brand = BeautifulSoup(driver.page_source, 'html.parser')\n",
    "      model_link = []\n",
    "      for j in brand.find_all('a',{'class', 'title'})[:int(i[1])]:\n",
    "          model_link.append('https://www.eprice.com.tw'+j.get('href'))\n",
    "      for k in model_link[:int(i[1])]:\n",
    "          try:\n",
    "              driver.get(k)\n",
    "              time.sleep(5)\n",
    "              data = driver.find_elements_by_class_name('posi_data')\n",
    "              detial = []\n",
    "              for l in data:\n",
    "                  detial.append(l.text)\n",
    "              writer.writerow(detial)\n",
    "          except:\n",
    "              continue\n",
    "      "
   ]
  },
  {
   "cell_type": "code",
   "execution_count": 49,
   "metadata": {},
   "outputs": [
    {
     "data": {
      "text/plain": [
       "['https://www.eprice.com.tw/product/brands/Apple/', '32']"
      ]
     },
     "execution_count": 49,
     "metadata": {},
     "output_type": "execute_result"
    }
   ],
   "source": [
    "i"
   ]
  },
  {
   "cell_type": "code",
   "execution_count": null,
   "metadata": {},
   "outputs": [],
   "source": []
  }
 ],
 "metadata": {
  "kernelspec": {
   "display_name": "Python 3",
   "language": "python",
   "name": "python3"
  },
  "language_info": {
   "codemirror_mode": {
    "name": "ipython",
    "version": 3
   },
   "file_extension": ".py",
   "mimetype": "text/x-python",
   "name": "python",
   "nbconvert_exporter": "python",
   "pygments_lexer": "ipython3",
   "version": "3.7.6"
  }
 },
 "nbformat": 4,
 "nbformat_minor": 4
}
